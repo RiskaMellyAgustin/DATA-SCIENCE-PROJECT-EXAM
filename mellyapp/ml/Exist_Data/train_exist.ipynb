{
 "cells": [
  {
   "cell_type": "code",
   "execution_count": 7,
   "id": "8e88583a",
   "metadata": {},
   "outputs": [
    {
     "name": "stdout",
     "output_type": "stream",
     "text": [
      "Classification Report:\n",
      "               precision    recall  f1-score   support\n",
      "\n",
      "           0       0.73      0.78      0.76        60\n",
      "           1       0.59      0.53      0.56        36\n",
      "\n",
      "    accuracy                           0.69        96\n",
      "   macro avg       0.66      0.66      0.66        96\n",
      "weighted avg       0.68      0.69      0.68        96\n",
      "\n",
      "Confusion Matrix:\n",
      " [[47 13]\n",
      " [17 19]]\n",
      "✅ Model saved to D:/1.UNI 5th Semester/6. Advance DataBase/ADVANCE_DB PROJECT - Copy (5) - Copy/ds_project/mellyapp/ml/Exist_Data/xgboost_dropout_Exist_model.pkl\n"
     ]
    },
    {
     "name": "stderr",
     "output_type": "stream",
     "text": [
      "d:\\1.UNI 5th Semester\\6. Advance DataBase\\ADVANCE_DB PROJECT - Copy (5) - Copy\\venv\\Lib\\site-packages\\xgboost\\training.py:183: UserWarning: [03:01:19] WARNING: C:\\actions-runner\\_work\\xgboost\\xgboost\\src\\learner.cc:738: \n",
      "Parameters: { \"use_label_encoder\" } are not used.\n",
      "\n",
      "  bst.update(dtrain, iteration=i, fobj=obj)\n"
     ]
    }
   ],
   "source": [
    "# train_dropout_xgb.py\n",
    "\n",
    "import pandas as pd\n",
    "from sklearn.model_selection import train_test_split\n",
    "from sklearn.preprocessing import OneHotEncoder, StandardScaler\n",
    "from sklearn.compose import ColumnTransformer\n",
    "from sklearn.pipeline import Pipeline\n",
    "from xgboost import XGBClassifier\n",
    "from sklearn.metrics import classification_report, confusion_matrix\n",
    "import joblib\n",
    "import os\n",
    "\n",
    "# 1. Load dataset CSV\n",
    "df = pd.read_csv(r'D:/1.UNI 5th Semester/6. Advance DataBase/ADVANCE_DB PROJECT - Copy (5) - Copy/ds_project/mellyapp/ml/Exist_Data/DROPOUT-EXIST 2.csv')\n",
    "\n",
    "# 2. Fitur & target\n",
    "X = df.drop(columns=['dropout', 'grade'])\n",
    "y = df['dropout']\n",
    "\n",
    "# 3. Definisi kolom\n",
    "categorical_features = ['gender']\n",
    "numerical_features = ['age', 'total_activities_done', 'total_duration_minutes']\n",
    "\n",
    "# 4. Preprocessor\n",
    "preprocessor = ColumnTransformer([\n",
    "    ('cat', OneHotEncoder(drop='first'), categorical_features),\n",
    "    ('num', StandardScaler(), numerical_features)\n",
    "])\n",
    "\n",
    "# 5. Pipeline XGBoost\n",
    "pipeline = Pipeline([\n",
    "    ('preprocess', preprocessor),\n",
    "    ('clf', XGBClassifier(\n",
    "        random_state=42,\n",
    "        use_label_encoder=False,\n",
    "        eval_metric='logloss'\n",
    "    ))\n",
    "])\n",
    "\n",
    "# 6. Train-test split\n",
    "X_train, X_test, y_train, y_test = train_test_split(X, y, stratify=y, test_size=0.2, random_state=42)\n",
    "\n",
    "# 7. Train model\n",
    "pipeline.fit(X_train, y_train)\n",
    "\n",
    "# 8. Evaluate\n",
    "y_pred = pipeline.predict(X_test)\n",
    "print(\"Classification Report:\\n\", classification_report(y_test, y_pred))\n",
    "print(\"Confusion Matrix:\\n\", confusion_matrix(y_test, y_pred))\n",
    "\n",
    "# 9. Save model\n",
    "model_path = r'D:/1.UNI 5th Semester/6. Advance DataBase/ADVANCE_DB PROJECT - Copy (5) - Copy/ds_project/mellyapp/ml/Exist_Data/xgboost_dropout_Exist_model.pkl'\n",
    "joblib.dump(pipeline, model_path)\n",
    "print(f\"✅ Model saved to {model_path}\")\n"
   ]
  },
  {
   "cell_type": "code",
   "execution_count": null,
   "id": "fc7d7255",
   "metadata": {},
   "outputs": [],
   "source": []
  }
 ],
 "metadata": {
  "kernelspec": {
   "display_name": "venv",
   "language": "python",
   "name": "python3"
  },
  "language_info": {
   "codemirror_mode": {
    "name": "ipython",
    "version": 3
   },
   "file_extension": ".py",
   "mimetype": "text/x-python",
   "name": "python",
   "nbconvert_exporter": "python",
   "pygments_lexer": "ipython3",
   "version": "3.12.6"
  }
 },
 "nbformat": 4,
 "nbformat_minor": 5
}
