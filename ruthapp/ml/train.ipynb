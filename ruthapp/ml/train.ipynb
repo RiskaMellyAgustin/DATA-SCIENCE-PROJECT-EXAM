{
 "cells": [
  {
   "cell_type": "code",
   "execution_count": 4,
   "id": "7c2205cb",
   "metadata": {},
   "outputs": [
    {
     "name": "stdout",
     "output_type": "stream",
     "text": [
      "MSE: 219.8004913330078\n",
      "R2 Score: -0.04997825622558594\n",
      "Model saved to D:\\1.UNI 5th Semester\\6. Advance DataBase\\ADVANCE_DB PROJECT - Copy (3)\\ds_project\\ruthapp\\ml\\student_effectiveness_xgb.pkl\n"
     ]
    }
   ],
   "source": [
    "import pandas as pd\n",
    "from xgboost import XGBRegressor\n",
    "from sklearn.model_selection import train_test_split\n",
    "from sklearn.preprocessing import OneHotEncoder\n",
    "from sklearn.compose import ColumnTransformer\n",
    "from sklearn.pipeline import Pipeline\n",
    "from sklearn.metrics import mean_squared_error, r2_score\n",
    "import joblib\n",
    "\n",
    "# Load data\n",
    "data_path = r\"D:\\1.UNI 5th Semester\\6. Advance DataBase\\ADVANCE_DB PROJECT - Copy (3)\\ds_project\\ruthapp\\ml\\Ruth_OLAPcsv.csv\"\n",
    "df = pd.read_csv(data_path)\n",
    "\n",
    "# Drop kolom tidak relevan\n",
    "X = df.drop(columns=['grade', 'name', 'stu_id'])\n",
    "y = df['grade']\n",
    "\n",
    "# Kolom kategorikal & numerikal\n",
    "categorical_cols = ['gender', 'type_name', 'course_name']\n",
    "numerical_cols = [col for col in X.columns if col not in categorical_cols]\n",
    "\n",
    "# Preprocessing\n",
    "preprocessor = ColumnTransformer(\n",
    "    transformers=[\n",
    "        ('cat', OneHotEncoder(handle_unknown='ignore'), categorical_cols)\n",
    "    ],\n",
    "    remainder='passthrough'\n",
    ")\n",
    "\n",
    "# Pipeline dengan XGBoost\n",
    "pipeline = Pipeline(steps=[\n",
    "    ('preprocessor', preprocessor),\n",
    "    ('model', XGBRegressor(\n",
    "        n_estimators=100,\n",
    "        learning_rate=0.1,\n",
    "        max_depth=4,\n",
    "        objective='reg:squarederror',\n",
    "        random_state=42\n",
    "    ))\n",
    "])\n",
    "\n",
    "# Split data\n",
    "X_train, X_test, y_train, y_test = train_test_split(X, y, test_size=0.2, random_state=42)\n",
    "\n",
    "# Train\n",
    "pipeline.fit(X_train, y_train)\n",
    "\n",
    "# Evaluasi\n",
    "y_pred = pipeline.predict(X_test)\n",
    "print(\"MSE:\", mean_squared_error(y_test, y_pred))\n",
    "print(\"R2 Score:\", r2_score(y_test, y_pred))\n",
    "\n",
    "# Save model\n",
    "model_path = r\"D:\\1.UNI 5th Semester\\6. Advance DataBase\\ADVANCE_DB PROJECT - Copy (3)\\ds_project\\ruthapp\\ml\\student_effectiveness_xgb.pkl\"\n",
    "joblib.dump(pipeline, model_path)\n",
    "print(f\"Model saved to {model_path}\")\n"
   ]
  },
  {
   "cell_type": "code",
   "execution_count": null,
   "id": "939f8ea4",
   "metadata": {},
   "outputs": [],
   "source": []
  }
 ],
 "metadata": {
  "kernelspec": {
   "display_name": "venv",
   "language": "python",
   "name": "python3"
  },
  "language_info": {
   "codemirror_mode": {
    "name": "ipython",
    "version": 3
   },
   "file_extension": ".py",
   "mimetype": "text/x-python",
   "name": "python",
   "nbconvert_exporter": "python",
   "pygments_lexer": "ipython3",
   "version": "3.12.6"
  }
 },
 "nbformat": 4,
 "nbformat_minor": 5
}
