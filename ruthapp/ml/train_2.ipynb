{
 "cells": [
  {
   "cell_type": "code",
   "execution_count": 6,
   "id": "bf5cb92f",
   "metadata": {},
   "outputs": [
    {
     "name": "stdout",
     "output_type": "stream",
     "text": [
      "MSE: 286.6443786621094\n",
      "R2 Score: -0.3692888021469116\n"
     ]
    },
    {
     "data": {
      "text/plain": [
       "['ruthapp\\\\ml\\\\xgb_classifier_model.pkl']"
      ]
     },
     "execution_count": 6,
     "metadata": {},
     "output_type": "execute_result"
    }
   ],
   "source": [
    "import pandas as pd\n",
    "import joblib\n",
    "from xgboost import XGBRegressor\n",
    "from sklearn.model_selection import train_test_split\n",
    "from sklearn.metrics import mean_squared_error, r2_score\n",
    "import os\n",
    "\n",
    "# Load dataset\n",
    "csv_path = r\"D:\\1.UNI 5th Semester\\6. Advance DataBase\\ADVANCE_DB PROJECT - Copy (3)\\ds_project\\ruthapp\\ml\\Ruth_OLAP.csv\"\n",
    "df = pd.read_csv(csv_path)\n",
    "\n",
    "# Fitur engineering\n",
    "df['duration_per_activity'] = df['total_duration_minutes'] / (df['total_activities'] + 1e-5)\n",
    "\n",
    "# Kolom input dan target\n",
    "features = ['gender', 'type_name', 'course_name', 'total_activities', 'total_duration_minutes', 'duration_per_activity', 'age']\n",
    "target = 'grade'\n",
    "df = df[features + [target]]\n",
    "df = df.rename(columns={'type_name': 'activity_type'})\n",
    "\n",
    "# One-hot encoding\n",
    "X = pd.get_dummies(df.drop(columns=[target]))\n",
    "y = df[target]\n",
    "\n",
    "# Simpan kolom one-hot untuk preprocessing nanti\n",
    "expected_columns = X.columns.tolist()\n",
    "\n",
    "# Buat folder output jika belum ada\n",
    "output_dir = os.path.join('ruthapp', 'ml')\n",
    "os.makedirs(output_dir, exist_ok=True)\n",
    "\n",
    "# Simpan expected_columns.pkl\n",
    "joblib.dump(expected_columns, os.path.join(output_dir, 'expected_columns.pkl'))\n",
    "\n",
    "# Train test split dan training model\n",
    "X_train, X_test, y_train, y_test = train_test_split(X, y, test_size=0.2, random_state=42)\n",
    "model = XGBRegressor()\n",
    "model.fit(X_train, y_train)\n",
    "\n",
    "# Evaluasi\n",
    "y_pred = model.predict(X_test)\n",
    "print(f\"MSE: {mean_squared_error(y_test, y_pred)}\")\n",
    "print(f\"R2 Score: {r2_score(y_test, y_pred)}\")\n",
    "\n",
    "# Simpan model\n",
    "joblib.dump(model, os.path.join(output_dir, 'xgb_classifier_model.pkl'))\n"
   ]
  },
  {
   "cell_type": "code",
   "execution_count": 7,
   "id": "27583ddb",
   "metadata": {},
   "outputs": [
    {
     "ename": "ValueError",
     "evalue": "Invalid classes inferred from unique values of `y`.  Expected: [0 1 2 3], got ['Excellent' 'High' 'Low' 'Medium']",
     "output_type": "error",
     "traceback": [
      "\u001b[31m---------------------------------------------------------------------------\u001b[39m",
      "\u001b[31mValueError\u001b[39m                                Traceback (most recent call last)",
      "\u001b[36mCell\u001b[39m\u001b[36m \u001b[39m\u001b[32mIn[7]\u001b[39m\u001b[32m, line 50\u001b[39m\n\u001b[32m     48\u001b[39m X_train, X_test, y_train, y_test = train_test_split(X, y, test_size=\u001b[32m0.2\u001b[39m, random_state=\u001b[32m42\u001b[39m)\n\u001b[32m     49\u001b[39m clf = XGBClassifier(use_label_encoder=\u001b[38;5;28;01mFalse\u001b[39;00m, eval_metric=\u001b[33m'\u001b[39m\u001b[33mmlogloss\u001b[39m\u001b[33m'\u001b[39m)\n\u001b[32m---> \u001b[39m\u001b[32m50\u001b[39m \u001b[43mclf\u001b[49m\u001b[43m.\u001b[49m\u001b[43mfit\u001b[49m\u001b[43m(\u001b[49m\u001b[43mX_train\u001b[49m\u001b[43m,\u001b[49m\u001b[43m \u001b[49m\u001b[43my_train\u001b[49m\u001b[43m)\u001b[49m\n\u001b[32m     52\u001b[39m \u001b[38;5;66;03m# Evaluasi\u001b[39;00m\n\u001b[32m     53\u001b[39m y_pred = clf.predict(X_test)\n",
      "\u001b[36mFile \u001b[39m\u001b[32md:\\1.UNI 5th Semester\\6. Advance DataBase\\ADVANCE_DB PROJECT - Copy (3)\\venv\\Lib\\site-packages\\xgboost\\core.py:729\u001b[39m, in \u001b[36mrequire_keyword_args.<locals>.throw_if.<locals>.inner_f\u001b[39m\u001b[34m(*args, **kwargs)\u001b[39m\n\u001b[32m    727\u001b[39m \u001b[38;5;28;01mfor\u001b[39;00m k, arg \u001b[38;5;129;01min\u001b[39;00m \u001b[38;5;28mzip\u001b[39m(sig.parameters, args):\n\u001b[32m    728\u001b[39m     kwargs[k] = arg\n\u001b[32m--> \u001b[39m\u001b[32m729\u001b[39m \u001b[38;5;28;01mreturn\u001b[39;00m \u001b[43mfunc\u001b[49m\u001b[43m(\u001b[49m\u001b[43m*\u001b[49m\u001b[43m*\u001b[49m\u001b[43mkwargs\u001b[49m\u001b[43m)\u001b[49m\n",
      "\u001b[36mFile \u001b[39m\u001b[32md:\\1.UNI 5th Semester\\6. Advance DataBase\\ADVANCE_DB PROJECT - Copy (3)\\venv\\Lib\\site-packages\\xgboost\\sklearn.py:1640\u001b[39m, in \u001b[36mXGBClassifier.fit\u001b[39m\u001b[34m(self, X, y, sample_weight, base_margin, eval_set, verbose, xgb_model, sample_weight_eval_set, base_margin_eval_set, feature_weights)\u001b[39m\n\u001b[32m   1635\u001b[39m     expected_classes = \u001b[38;5;28mself\u001b[39m.classes_\n\u001b[32m   1636\u001b[39m \u001b[38;5;28;01mif\u001b[39;00m (\n\u001b[32m   1637\u001b[39m     classes.shape != expected_classes.shape\n\u001b[32m   1638\u001b[39m     \u001b[38;5;129;01mor\u001b[39;00m \u001b[38;5;129;01mnot\u001b[39;00m (classes == expected_classes).all()\n\u001b[32m   1639\u001b[39m ):\n\u001b[32m-> \u001b[39m\u001b[32m1640\u001b[39m     \u001b[38;5;28;01mraise\u001b[39;00m \u001b[38;5;167;01mValueError\u001b[39;00m(\n\u001b[32m   1641\u001b[39m         \u001b[33mf\u001b[39m\u001b[33m\"\u001b[39m\u001b[33mInvalid classes inferred from unique values of `y`.  \u001b[39m\u001b[33m\"\u001b[39m\n\u001b[32m   1642\u001b[39m         \u001b[33mf\u001b[39m\u001b[33m\"\u001b[39m\u001b[33mExpected: \u001b[39m\u001b[38;5;132;01m{\u001b[39;00mexpected_classes\u001b[38;5;132;01m}\u001b[39;00m\u001b[33m, got \u001b[39m\u001b[38;5;132;01m{\u001b[39;00mclasses\u001b[38;5;132;01m}\u001b[39;00m\u001b[33m\"\u001b[39m\n\u001b[32m   1643\u001b[39m     )\n\u001b[32m   1645\u001b[39m params = \u001b[38;5;28mself\u001b[39m.get_xgb_params()\n\u001b[32m   1647\u001b[39m \u001b[38;5;28;01mif\u001b[39;00m \u001b[38;5;28mcallable\u001b[39m(\u001b[38;5;28mself\u001b[39m.objective):\n",
      "\u001b[31mValueError\u001b[39m: Invalid classes inferred from unique values of `y`.  Expected: [0 1 2 3], got ['Excellent' 'High' 'Low' 'Medium']"
     ]
    }
   ],
   "source": [
    "import pandas as pd\n",
    "import joblib\n",
    "from xgboost import XGBClassifier\n",
    "from sklearn.model_selection import train_test_split\n",
    "from sklearn.metrics import classification_report, accuracy_score\n",
    "import os\n",
    "\n",
    "# Load dataset\n",
    "csv_path = r\"D:\\1.UNI 5th Semester\\6. Advance DataBase\\ADVANCE_DB PROJECT - Copy (3)\\ds_project\\ruthapp\\ml\\Ruth_OLAP.csv\"\n",
    "df = pd.read_csv(csv_path)\n",
    "\n",
    "# Feature engineering\n",
    "df['duration_per_activity'] = df['total_duration_minutes'] / (df['total_activities'] + 1e-5)\n",
    "\n",
    "# Kolom input dan target\n",
    "features = ['gender', 'type_name', 'course_name', 'total_activities', 'total_duration_minutes', 'duration_per_activity', 'age']\n",
    "df = df[features + ['grade']]\n",
    "df = df.rename(columns={'type_name': 'activity_type'})\n",
    "\n",
    "# Konversi target: grade (float) → label kelas\n",
    "def to_label(score):\n",
    "    if score < 60:\n",
    "        return \"Low\"\n",
    "    elif score < 75:\n",
    "        return \"Medium\"\n",
    "    elif score < 90:\n",
    "        return \"High\"\n",
    "    else:\n",
    "        return \"Excellent\"\n",
    "\n",
    "df['grade_label'] = df['grade'].apply(to_label)\n",
    "\n",
    "# One-hot encoding untuk input\n",
    "X = pd.get_dummies(df.drop(columns=['grade', 'grade_label']))\n",
    "y = df['grade_label']\n",
    "\n",
    "# Simpan expected_columns untuk preprocessing nanti\n",
    "expected_columns = X.columns.tolist()\n",
    "\n",
    "# Output directory\n",
    "output_dir = os.path.join('ruthapp', 'ml')\n",
    "os.makedirs(output_dir, exist_ok=True)\n",
    "\n",
    "# Simpan expected_columns\n",
    "joblib.dump(expected_columns, os.path.join(output_dir, 'model2_columns.pkl'))\n",
    "\n",
    "# Split dan train model\n",
    "X_train, X_test, y_train, y_test = train_test_split(X, y, test_size=0.2, random_state=42)\n",
    "clf = XGBClassifier(use_label_encoder=False, eval_metric='mlogloss')\n",
    "clf.fit(X_train, y_train)\n",
    "\n",
    "# Evaluasi\n",
    "y_pred = clf.predict(X_test)\n",
    "print(\"Accuracy:\", accuracy_score(y_test, y_pred))\n",
    "print(\"Classification Report:\\n\", classification_report(y_test, y_pred))\n",
    "\n",
    "# Simpan model\n",
    "joblib.dump(clf, os.path.join(output_dir, 'model2.pkl'))\n"
   ]
  },
  {
   "cell_type": "code",
   "execution_count": null,
   "id": "70e5dbd0",
   "metadata": {},
   "outputs": [],
   "source": []
  }
 ],
 "metadata": {
  "kernelspec": {
   "display_name": "venv",
   "language": "python",
   "name": "python3"
  },
  "language_info": {
   "codemirror_mode": {
    "name": "ipython",
    "version": 3
   },
   "file_extension": ".py",
   "mimetype": "text/x-python",
   "name": "python",
   "nbconvert_exporter": "python",
   "pygments_lexer": "ipython3",
   "version": "3.12.6"
  }
 },
 "nbformat": 4,
 "nbformat_minor": 5
}
